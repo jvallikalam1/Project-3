{
 "cells": [
  {
   "cell_type": "code",
   "execution_count": 1,
   "metadata": {},
   "outputs": [],
   "source": [
    "from pathlib import Path\n",
    "import pandas as pd\n",
    "import numpy as np\n",
    "import yfinance as yf\n",
    "import matplotlib.pyplot as plt\n",
    "import seaborn as sns"
   ]
  },
  {
   "cell_type": "code",
   "execution_count": 2,
   "metadata": {},
   "outputs": [
    {
     "name": "stdout",
     "output_type": "stream",
     "text": [
      "yfinance.Ticker object <XLE>\n"
     ]
    }
   ],
   "source": [
    "xle = yf.Ticker(\"XLE\")\n",
    "print(xle)"
   ]
  },
  {
   "cell_type": "code",
   "execution_count": 3,
   "metadata": {},
   "outputs": [
    {
     "name": "stdout",
     "output_type": "stream",
     "text": [
      "yfinance.Ticker object <ICLN>\n"
     ]
    }
   ],
   "source": [
    "icln = yf.Ticker(\"ICLN\")\n",
    "print(icln)"
   ]
  },
  {
   "cell_type": "code",
   "execution_count": 4,
   "metadata": {},
   "outputs": [
    {
     "name": "stdout",
     "output_type": "stream",
     "text": [
      "yfinance.Ticker object <AMLP>\n"
     ]
    }
   ],
   "source": [
    "amlp = yf.Ticker(\"AMLP\")\n",
    "print(amlp)"
   ]
  },
  {
   "cell_type": "code",
   "execution_count": 5,
   "metadata": {},
   "outputs": [
    {
     "name": "stdout",
     "output_type": "stream",
     "text": [
      "yfinance.Ticker object <VDE>\n"
     ]
    }
   ],
   "source": [
    "vde = yf.Ticker(\"VDE\")\n",
    "print(vde)"
   ]
  },
  {
   "cell_type": "code",
   "execution_count": 6,
   "metadata": {},
   "outputs": [
    {
     "name": "stdout",
     "output_type": "stream",
     "text": [
      "yfinance.Ticker object <XOP>\n"
     ]
    }
   ],
   "source": [
    "xop = yf.Ticker(\"XOP\")\n",
    "print(xop)"
   ]
  },
  {
   "cell_type": "code",
   "execution_count": 8,
   "metadata": {},
   "outputs": [
    {
     "name": "stdout",
     "output_type": "stream",
     "text": [
      "[*********************100%***********************]  1 of 1 completed\n"
     ]
    }
   ],
   "source": [
    "xle_df = yf.download(\"XLE\", start=\"2011-01-01\", end=\"2021-06-23\")"
   ]
  },
  {
   "cell_type": "code",
   "execution_count": 9,
   "metadata": {},
   "outputs": [
    {
     "name": "stdout",
     "output_type": "stream",
     "text": [
      "[*********************100%***********************]  1 of 1 completed\n"
     ]
    }
   ],
   "source": [
    "icln_df = yf.download(\"ICLN\", start=\"2011-01-01\", end=\"2021-06-23\")"
   ]
  },
  {
   "cell_type": "code",
   "execution_count": 10,
   "metadata": {},
   "outputs": [
    {
     "name": "stdout",
     "output_type": "stream",
     "text": [
      "[*********************100%***********************]  1 of 1 completed\n"
     ]
    }
   ],
   "source": [
    "vde_df = yf.download(\"VDE\", start=\"2011-01-01\", end=\"2021-06-23\")"
   ]
  },
  {
   "cell_type": "code",
   "execution_count": 11,
   "metadata": {},
   "outputs": [
    {
     "name": "stdout",
     "output_type": "stream",
     "text": [
      "[*********************100%***********************]  1 of 1 completed\n"
     ]
    }
   ],
   "source": [
    "xop_df = yf.download(\"XOP\", start=\"2011-01-01\", end=\"2021-06-23\")"
   ]
  },
  {
   "cell_type": "code",
   "execution_count": 12,
   "metadata": {},
   "outputs": [
    {
     "name": "stdout",
     "output_type": "stream",
     "text": [
      "[*********************100%***********************]  1 of 1 completed\n"
     ]
    }
   ],
   "source": [
    "amlp_df = yf.download(\"AMLP\", start=\"2011-01-01\", end=\"2021-06-23\")"
   ]
  },
  {
   "cell_type": "code",
   "execution_count": 13,
   "metadata": {},
   "outputs": [],
   "source": [
    "xle_df = xle_df.reset_index()"
   ]
  },
  {
   "cell_type": "code",
   "execution_count": 17,
   "metadata": {},
   "outputs": [
    {
     "name": "stdout",
     "output_type": "stream",
     "text": [
      "           Date       Open       High        Low      Close  Adj Close  \\\n",
      "0    2011-01-03  68.900002  69.190002  68.599998  68.760002  48.918705   \n",
      "1    2011-01-04  69.190002  69.190002  67.519997  68.169998  48.498947   \n",
      "2    2011-01-05  67.830002  68.559998  67.570000  68.440002  48.691048   \n",
      "3    2011-01-06  68.669998  68.699997  67.500000  67.790001  48.228603   \n",
      "4    2011-01-07  67.820000  68.440002  67.599998  68.279999  48.577206   \n",
      "...         ...        ...        ...        ...        ...        ...   \n",
      "2630 2021-06-16  56.099998  56.549999  55.400002  55.889999  55.324589   \n",
      "2631 2021-06-17  55.750000  56.220001  53.259998  53.990002  53.443813   \n",
      "2632 2021-06-18  52.860001  53.529999  52.349998  52.389999  51.859997   \n",
      "2633 2021-06-21  52.290001  54.169998  52.290001  54.070000  54.070000   \n",
      "2634 2021-06-22  53.939999  54.639999  53.349998  54.430000  54.430000   \n",
      "\n",
      "        Volume  pctChange  \n",
      "0     10195800        NaN  \n",
      "1     14542000  -0.008581  \n",
      "2     11286200   0.003961  \n",
      "3     11449200  -0.009498  \n",
      "4     11080300   0.007228  \n",
      "...        ...        ...  \n",
      "2630  30393200  -0.005339  \n",
      "2631  53470900  -0.033995  \n",
      "2632  55840300  -0.029635  \n",
      "2633  42183400   0.042615  \n",
      "2634  24166500   0.006658  \n",
      "\n",
      "[2635 rows x 8 columns]\n"
     ]
    }
   ],
   "source": [
    "xle_df[\"pctChange\"]=xle_df[\"Adj Close\"].pct_change()\n",
    "print(xle_df)"
   ]
  },
  {
   "cell_type": "code",
   "execution_count": 20,
   "metadata": {},
   "outputs": [
    {
     "data": {
      "image/png": "[encoded data removed]",
      "text/plain": [
       "<Figure size 432x288 with 1 Axes>"
      ]
     },
     "metadata": {
      "needs_background": "light"
     },
     "output_type": "display_data"
    }
   ],
   "source": [
    "xle_df.plot(x ='Date', y='Volume', kind = 'bar')\n",
    "plt.show()"
   ]
  },
  {
   "cell_type": "code",
   "execution_count": 21,
   "metadata": {},
   "outputs": [
    {
     "name": "stdout",
     "output_type": "stream",
     "text": [
      "      index       Date       Open       High        Low      Close  Adj Close  \\\n",
      "0         0 2011-01-03  68.900002  69.190002  68.599998  68.760002  48.918705   \n",
      "1         1 2011-01-04  69.190002  69.190002  67.519997  68.169998  48.498947   \n",
      "2         2 2011-01-05  67.830002  68.559998  67.570000  68.440002  48.691048   \n",
      "3         3 2011-01-06  68.669998  68.699997  67.500000  67.790001  48.228603   \n",
      "4         4 2011-01-07  67.820000  68.440002  67.599998  68.279999  48.577206   \n",
      "...     ...        ...        ...        ...        ...        ...        ...   \n",
      "2630   2630 2021-06-16  56.099998  56.549999  55.400002  55.889999  55.324589   \n",
      "2631   2631 2021-06-17  55.750000  56.220001  53.259998  53.990002  53.443813   \n",
      "2632   2632 2021-06-18  52.860001  53.529999  52.349998  52.389999  51.859997   \n",
      "2633   2633 2021-06-21  52.290001  54.169998  52.290001  54.070000  54.070000   \n",
      "2634   2634 2021-06-22  53.939999  54.639999  53.349998  54.430000  54.430000   \n",
      "\n",
      "        Volume  pctChange  \n",
      "0     10195800        NaN  \n",
      "1     14542000  -0.008581  \n",
      "2     11286200   0.003961  \n",
      "3     11449200  -0.009498  \n",
      "4     11080300   0.007228  \n",
      "...        ...        ...  \n",
      "2630  30393200  -0.005339  \n",
      "2631  53470900  -0.033995  \n",
      "2632  55840300  -0.029635  \n",
      "2633  42183400   0.042615  \n",
      "2634  24166500   0.006658  \n",
      "\n",
      "[2635 rows x 9 columns]\n"
     ]
    }
   ],
   "source": [
    "icln_df = xle_df.reset_index()\n",
    "icln_df[\"pctChange\"]=icln_df[\"Adj Close\"].pct_change()\n",
    "print(icln_df)"
   ]
  },
  {
   "cell_type": "code",
   "execution_count": 22,
   "metadata": {},
   "outputs": [
    {
     "data": {
      "image/png": "[encoded data removed]",
      "text/plain": [
       "<Figure size 432x288 with 1 Axes>"
      ]
     },
     "metadata": {
      "needs_background": "light"
     },
     "output_type": "display_data"
    }
   ],
   "source": [
    "icln_df.plot(x ='Date', y='Volume', kind = 'bar')\n",
    "plt.show()"
   ]
  },
  {
   "cell_type": "code",
   "execution_count": 23,
   "metadata": {},
   "outputs": [
    {
     "name": "stdout",
     "output_type": "stream",
     "text": [
      "      index       Date       Open       High        Low      Close  Adj Close  \\\n",
      "0         0 2011-01-03  68.900002  69.190002  68.599998  68.760002  48.918705   \n",
      "1         1 2011-01-04  69.190002  69.190002  67.519997  68.169998  48.498947   \n",
      "2         2 2011-01-05  67.830002  68.559998  67.570000  68.440002  48.691048   \n",
      "3         3 2011-01-06  68.669998  68.699997  67.500000  67.790001  48.228603   \n",
      "4         4 2011-01-07  67.820000  68.440002  67.599998  68.279999  48.577206   \n",
      "...     ...        ...        ...        ...        ...        ...        ...   \n",
      "2630   2630 2021-06-16  56.099998  56.549999  55.400002  55.889999  55.324589   \n",
      "2631   2631 2021-06-17  55.750000  56.220001  53.259998  53.990002  53.443813   \n",
      "2632   2632 2021-06-18  52.860001  53.529999  52.349998  52.389999  51.859997   \n",
      "2633   2633 2021-06-21  52.290001  54.169998  52.290001  54.070000  54.070000   \n",
      "2634   2634 2021-06-22  53.939999  54.639999  53.349998  54.430000  54.430000   \n",
      "\n",
      "        Volume  pctChange  \n",
      "0     10195800        NaN  \n",
      "1     14542000  -0.008581  \n",
      "2     11286200   0.003961  \n",
      "3     11449200  -0.009498  \n",
      "4     11080300   0.007228  \n",
      "...        ...        ...  \n",
      "2630  30393200  -0.005339  \n",
      "2631  53470900  -0.033995  \n",
      "2632  55840300  -0.029635  \n",
      "2633  42183400   0.042615  \n",
      "2634  24166500   0.006658  \n",
      "\n",
      "[2635 rows x 9 columns]\n"
     ]
    }
   ],
   "source": [
    "vde_df = xle_df.reset_index()\n",
    "vde_df[\"pctChange\"]=vde_df[\"Adj Close\"].pct_change()\n",
    "print(vde_df)"
   ]
  },
  {
   "cell_type": "code",
   "execution_count": 24,
   "metadata": {},
   "outputs": [
    {
     "data": {
      "image/png": "[encoded data removed]",
      "text/plain": [
       "<Figure size 432x288 with 1 Axes>"
      ]
     },
     "metadata": {
      "needs_background": "light"
     },
     "output_type": "display_data"
    }
   ],
   "source": [
    "vde_df.plot(x ='Date', y='Volume', kind = 'bar')\n",
    "plt.show()"
   ]
  },
  {
   "cell_type": "code",
   "execution_count": 25,
   "metadata": {},
   "outputs": [
    {
     "name": "stdout",
     "output_type": "stream",
     "text": [
      "      index       Date       Open       High        Low      Close  Adj Close  \\\n",
      "0         0 2011-01-03  68.900002  69.190002  68.599998  68.760002  48.918705   \n",
      "1         1 2011-01-04  69.190002  69.190002  67.519997  68.169998  48.498947   \n",
      "2         2 2011-01-05  67.830002  68.559998  67.570000  68.440002  48.691048   \n",
      "3         3 2011-01-06  68.669998  68.699997  67.500000  67.790001  48.228603   \n",
      "4         4 2011-01-07  67.820000  68.440002  67.599998  68.279999  48.577206   \n",
      "...     ...        ...        ...        ...        ...        ...        ...   \n",
      "2630   2630 2021-06-16  56.099998  56.549999  55.400002  55.889999  55.324589   \n",
      "2631   2631 2021-06-17  55.750000  56.220001  53.259998  53.990002  53.443813   \n",
      "2632   2632 2021-06-18  52.860001  53.529999  52.349998  52.389999  51.859997   \n",
      "2633   2633 2021-06-21  52.290001  54.169998  52.290001  54.070000  54.070000   \n",
      "2634   2634 2021-06-22  53.939999  54.639999  53.349998  54.430000  54.430000   \n",
      "\n",
      "        Volume  pctChange  \n",
      "0     10195800        NaN  \n",
      "1     14542000  -0.008581  \n",
      "2     11286200   0.003961  \n",
      "3     11449200  -0.009498  \n",
      "4     11080300   0.007228  \n",
      "...        ...        ...  \n",
      "2630  30393200  -0.005339  \n",
      "2631  53470900  -0.033995  \n",
      "2632  55840300  -0.029635  \n",
      "2633  42183400   0.042615  \n",
      "2634  24166500   0.006658  \n",
      "\n",
      "[2635 rows x 9 columns]\n"
     ]
    }
   ],
   "source": [
    "amlp_df = xle_df.reset_index()\n",
    "amlp_df[\"pctChange\"]=amlp_df[\"Adj Close\"].pct_change()\n",
    "print(amlp_df)"
   ]
  },
  {
   "cell_type": "code",
   "execution_count": 26,
   "metadata": {},
   "outputs": [
    {
     "data": {
      "image/png": "[encoded data removed]",
      "text/plain": [
       "<Figure size 432x288 with 1 Axes>"
      ]
     },
     "metadata": {
      "needs_background": "light"
     },
     "output_type": "display_data"
    }
   ],
   "source": [
    "amlp_df.plot(x ='Date', y='Volume', kind = 'bar')\n",
    "plt.show()"
   ]
  },
  {
   "cell_type": "code",
   "execution_count": 27,
   "metadata": {},
   "outputs": [
    {
     "name": "stdout",
     "output_type": "stream",
     "text": [
      "      index       Date       Open       High        Low      Close  Adj Close  \\\n",
      "0         0 2011-01-03  68.900002  69.190002  68.599998  68.760002  48.918705   \n",
      "1         1 2011-01-04  69.190002  69.190002  67.519997  68.169998  48.498947   \n",
      "2         2 2011-01-05  67.830002  68.559998  67.570000  68.440002  48.691048   \n",
      "3         3 2011-01-06  68.669998  68.699997  67.500000  67.790001  48.228603   \n",
      "4         4 2011-01-07  67.820000  68.440002  67.599998  68.279999  48.577206   \n",
      "...     ...        ...        ...        ...        ...        ...        ...   \n",
      "2630   2630 2021-06-16  56.099998  56.549999  55.400002  55.889999  55.324589   \n",
      "2631   2631 2021-06-17  55.750000  56.220001  53.259998  53.990002  53.443813   \n",
      "2632   2632 2021-06-18  52.860001  53.529999  52.349998  52.389999  51.859997   \n",
      "2633   2633 2021-06-21  52.290001  54.169998  52.290001  54.070000  54.070000   \n",
      "2634   2634 2021-06-22  53.939999  54.639999  53.349998  54.430000  54.430000   \n",
      "\n",
      "        Volume  pctChange  \n",
      "0     10195800        NaN  \n",
      "1     14542000  -0.008581  \n",
      "2     11286200   0.003961  \n",
      "3     11449200  -0.009498  \n",
      "4     11080300   0.007228  \n",
      "...        ...        ...  \n",
      "2630  30393200  -0.005339  \n",
      "2631  53470900  -0.033995  \n",
      "2632  55840300  -0.029635  \n",
      "2633  42183400   0.042615  \n",
      "2634  24166500   0.006658  \n",
      "\n",
      "[2635 rows x 9 columns]\n"
     ]
    }
   ],
   "source": [
    "xop_df = xle_df.reset_index()\n",
    "xop_df[\"pctChange\"]=xop_df[\"Adj Close\"].pct_change()\n",
    "print(xop_df)"
   ]
  },
  {
   "cell_type": "code",
   "execution_count": 28,
   "metadata": {},
   "outputs": [
    {
     "data": {
      "image/png": "[encoded data removed]",
      "text/plain": [
       "<Figure size 432x288 with 1 Axes>"
      ]
     },
     "metadata": {
      "needs_background": "light"
     },
     "output_type": "display_data"
    }
   ],
   "source": [
    "xop_df.plot(x ='Date', y='Volume', kind = 'bar')\n",
    "plt.show()"
   ]
  },
  {
   "cell_type": "code",
   "execution_count": null,
   "metadata": {},
   "outputs": [],
   "source": []
  }
 ],
 "metadata": {
  "kernelspec": {
   "display_name": "Python 3",
   "language": "python",
   "name": "python3"
  },
  "language_info": {
   "codemirror_mode": {
    "name": "ipython",
    "version": 3
   },
   "file_extension": ".py",
   "mimetype": "text/x-python",
   "name": "python",
   "nbconvert_exporter": "python",
   "pygments_lexer": "ipython3",
   "version": "3.8.5"
  }
 },
 "nbformat": 4,
 "nbformat_minor": 4
}
