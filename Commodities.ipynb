{
 "cells": [
  {
   "cell_type": "code",
   "execution_count": 4,
   "metadata": {
    "collapsed": true,
    "jupyter": {
     "outputs_hidden": true
    }
   },
   "outputs": [
    {
     "name": "stdout",
     "output_type": "stream",
     "text": [
      "Collecting yfinance\n",
      "  Downloading yfinance-0.1.59.tar.gz (25 kB)\n",
      "Requirement already satisfied: pandas>=0.24 in c:\\users\\eprie\\anaconda3\\envs\\mlenv\\lib\\site-packages (from yfinance) (1.1.3)\n",
      "Requirement already satisfied: numpy>=1.15 in c:\\users\\eprie\\anaconda3\\envs\\mlenv\\lib\\site-packages (from yfinance) (1.17.0)\n",
      "Requirement already satisfied: requests>=2.20 in c:\\users\\eprie\\anaconda3\\envs\\mlenv\\lib\\site-packages (from yfinance) (2.25.1)\n",
      "Processing c:\\users\\eprie\\appdata\\local\\pip\\cache\\wheels\\ae\\25\\47\\4d68431a7ec1b6c4b5233365934b74c1d4e665bf5f968d363a\\multitasking-0.0.9-py3-none-any.whl\n",
      "Requirement already satisfied: lxml>=4.5.1 in c:\\users\\eprie\\anaconda3\\envs\\mlenv\\lib\\site-packages (from yfinance) (4.6.1)\n",
      "Requirement already satisfied: python-dateutil>=2.7.3 in c:\\users\\eprie\\anaconda3\\envs\\mlenv\\lib\\site-packages (from pandas>=0.24->yfinance) (2.8.1)\n",
      "Requirement already satisfied: pytz>=2017.2 in c:\\users\\eprie\\anaconda3\\envs\\mlenv\\lib\\site-packages (from pandas>=0.24->yfinance) (2020.1)\n",
      "Requirement already satisfied: certifi>=2017.4.17 in c:\\users\\eprie\\anaconda3\\envs\\mlenv\\lib\\site-packages (from requests>=2.20->yfinance) (2020.12.5)\n",
      "Requirement already satisfied: urllib3<1.27,>=1.21.1 in c:\\users\\eprie\\anaconda3\\envs\\mlenv\\lib\\site-packages (from requests>=2.20->yfinance) (1.26.4)\n",
      "Requirement already satisfied: idna<3,>=2.5 in c:\\users\\eprie\\anaconda3\\envs\\mlenv\\lib\\site-packages (from requests>=2.20->yfinance) (2.10)\n",
      "Requirement already satisfied: chardet<5,>=3.0.2 in c:\\users\\eprie\\anaconda3\\envs\\mlenv\\lib\\site-packages (from requests>=2.20->yfinance) (3.0.4)\n",
      "Requirement already satisfied: six>=1.5 in c:\\users\\eprie\\anaconda3\\envs\\mlenv\\lib\\site-packages (from python-dateutil>=2.7.3->pandas>=0.24->yfinance) (1.15.0)\n",
      "Building wheels for collected packages: yfinance\n",
      "  Building wheel for yfinance (setup.py): started\n",
      "  Building wheel for yfinance (setup.py): finished with status 'done'\n",
      "  Created wheel for yfinance: filename=yfinance-0.1.59-py2.py3-none-any.whl size=23447 sha256=e3669e3f9b35647519e09e7161ab7e4ee9dd9bd52142ade2a3a1efdf540dd1de\n",
      "  Stored in directory: c:\\users\\eprie\\appdata\\local\\pip\\cache\\wheels\\26\\af\\8b\\fac1b47dffef567f945641cdc9b67bb25fae5725d462a8cf81\n",
      "Successfully built yfinance\n",
      "Installing collected packages: multitasking, yfinance\n",
      "Successfully installed multitasking-0.0.9 yfinance-0.1.59\n",
      "Note: you may need to restart the kernel to use updated packages.\n"
     ]
    }
   ],
   "source": [
    "pip install yfinance"
   ]
  },
  {
   "cell_type": "code",
   "execution_count": 64,
   "metadata": {},
   "outputs": [],
   "source": [
    "# commodities pull\n",
    "# Crude, Natural Gas, Corn, Soybeans\n",
    "\n",
    "from pathlib import Path\n",
    "import pandas as pd\n",
    "import numpy as np\n",
    "import yfinance as yf\n",
    "import matplotlib.pyplot as plt\n",
    "import seaborn as sns"
   ]
  },
  {
   "cell_type": "code",
   "execution_count": 10,
   "metadata": {},
   "outputs": [],
   "source": [
    "nat_gas = yf.Ticker(\"NG=F\")"
   ]
  },
  {
   "cell_type": "code",
   "execution_count": 19,
   "metadata": {},
   "outputs": [
    {
     "name": "stdout",
     "output_type": "stream",
     "text": [
      "[*********************100%***********************]  1 of 1 completed\n"
     ]
    }
   ],
   "source": [
    "nat_gas_df = yf.download(\"NG=F\", start=\"2011-06-23\", end=\"2021-06-23\")"
   ]
  },
  {
   "cell_type": "code",
   "execution_count": 37,
   "metadata": {},
   "outputs": [],
   "source": [
    "nat_gas_df = nat_gas_df.reset_index()"
   ]
  },
  {
   "cell_type": "code",
   "execution_count": 40,
   "metadata": {},
   "outputs": [],
   "source": [
    "nat_gas_df[\"pctChange\"]= nat_gas_df[\"Adj Close\"].pct_change()"
   ]
  },
  {
   "cell_type": "code",
   "execution_count": 41,
   "metadata": {},
   "outputs": [
    {
     "data": {
      "text/html": [
       "<div>\n",
       "<style scoped>\n",
       "    .dataframe tbody tr th:only-of-type {\n",
       "        vertical-align: middle;\n",
       "    }\n",
       "\n",
       "    .dataframe tbody tr th {\n",
       "        vertical-align: top;\n",
       "    }\n",
       "\n",
       "    .dataframe thead th {\n",
       "        text-align: right;\n",
       "    }\n",
       "</style>\n",
       "<table border=\"1\" class=\"dataframe\">\n",
       "  <thead>\n",
       "    <tr style=\"text-align: right;\">\n",
       "      <th></th>\n",
       "      <th>index</th>\n",
       "      <th>Date</th>\n",
       "      <th>Open</th>\n",
       "      <th>High</th>\n",
       "      <th>Low</th>\n",
       "      <th>Close</th>\n",
       "      <th>Adj Close</th>\n",
       "      <th>Volume</th>\n",
       "      <th>pctChange</th>\n",
       "    </tr>\n",
       "  </thead>\n",
       "  <tbody>\n",
       "    <tr>\n",
       "      <th>0</th>\n",
       "      <td>0</td>\n",
       "      <td>2011-06-23</td>\n",
       "      <td>4.301</td>\n",
       "      <td>4.335</td>\n",
       "      <td>4.154</td>\n",
       "      <td>4.193</td>\n",
       "      <td>4.193</td>\n",
       "      <td>144184</td>\n",
       "      <td>NaN</td>\n",
       "    </tr>\n",
       "    <tr>\n",
       "      <th>1</th>\n",
       "      <td>1</td>\n",
       "      <td>2011-06-24</td>\n",
       "      <td>4.212</td>\n",
       "      <td>4.248</td>\n",
       "      <td>4.171</td>\n",
       "      <td>4.229</td>\n",
       "      <td>4.229</td>\n",
       "      <td>66904</td>\n",
       "      <td>0.008586</td>\n",
       "    </tr>\n",
       "    <tr>\n",
       "      <th>2</th>\n",
       "      <td>2</td>\n",
       "      <td>2011-06-27</td>\n",
       "      <td>4.228</td>\n",
       "      <td>4.276</td>\n",
       "      <td>4.176</td>\n",
       "      <td>4.256</td>\n",
       "      <td>4.256</td>\n",
       "      <td>70785</td>\n",
       "      <td>0.006384</td>\n",
       "    </tr>\n",
       "    <tr>\n",
       "      <th>3</th>\n",
       "      <td>3</td>\n",
       "      <td>2011-06-28</td>\n",
       "      <td>4.274</td>\n",
       "      <td>4.380</td>\n",
       "      <td>4.251</td>\n",
       "      <td>4.357</td>\n",
       "      <td>4.357</td>\n",
       "      <td>92105</td>\n",
       "      <td>0.023731</td>\n",
       "    </tr>\n",
       "    <tr>\n",
       "      <th>4</th>\n",
       "      <td>4</td>\n",
       "      <td>2011-06-29</td>\n",
       "      <td>4.372</td>\n",
       "      <td>4.378</td>\n",
       "      <td>4.276</td>\n",
       "      <td>4.315</td>\n",
       "      <td>4.315</td>\n",
       "      <td>94777</td>\n",
       "      <td>-0.009640</td>\n",
       "    </tr>\n",
       "  </tbody>\n",
       "</table>\n",
       "</div>"
      ],
      "text/plain": [
       "   index       Date   Open   High    Low  Close  Adj Close  Volume  pctChange\n",
       "0      0 2011-06-23  4.301  4.335  4.154  4.193      4.193  144184        NaN\n",
       "1      1 2011-06-24  4.212  4.248  4.171  4.229      4.229   66904   0.008586\n",
       "2      2 2011-06-27  4.228  4.276  4.176  4.256      4.256   70785   0.006384\n",
       "3      3 2011-06-28  4.274  4.380  4.251  4.357      4.357   92105   0.023731\n",
       "4      4 2011-06-29  4.372  4.378  4.276  4.315      4.315   94777  -0.009640"
      ]
     },
     "execution_count": 41,
     "metadata": {},
     "output_type": "execute_result"
    }
   ],
   "source": [
    "nat_gas_df.head(5)"
   ]
  },
  {
   "cell_type": "code",
   "execution_count": 48,
   "metadata": {},
   "outputs": [
    {
     "data": {
      "text/plain": [
       "<AxesSubplot:>"
      ]
     },
     "execution_count": 48,
     "metadata": {},
     "output_type": "execute_result"
    },
    {
     "data": {
      "image/png": "[encoded data removed]",
      "text/plain": [
       "<Figure size 432x288 with 1 Axes>"
      ]
     },
     "metadata": {
      "needs_background": "light"
     },
     "output_type": "display_data"
    }
   ],
   "source": [
    "nat_gas_df[\"Close\"].plot()\n",
    "nat_gas_df[\"pctChange\"].plot()"
   ]
  },
  {
   "cell_type": "code",
   "execution_count": 65,
   "metadata": {},
   "outputs": [
    {
     "name": "stderr",
     "output_type": "stream",
     "text": [
      "C:\\Users\\eprie\\anaconda3\\envs\\mlenv\\lib\\site-packages\\numpy\\lib\\histograms.py:829: RuntimeWarning: invalid value encountered in greater_equal\n",
      "  keep = (tmp_a >= first_edge)\n",
      "C:\\Users\\eprie\\anaconda3\\envs\\mlenv\\lib\\site-packages\\numpy\\lib\\histograms.py:830: RuntimeWarning: invalid value encountered in less_equal\n",
      "  keep &= (tmp_a <= last_edge)\n"
     ]
    },
    {
     "data": {
      "text/plain": [
       "(array([2.00e+00, 1.60e+01, 6.70e+01, 7.03e+02, 1.37e+03, 2.82e+02,\n",
       "        3.90e+01, 9.00e+00, 5.00e+00, 1.00e+00]),\n",
       " array([-0.16518499, -0.12677216, -0.08835932, -0.04994648, -0.01153365,\n",
       "         0.02687919,  0.06529203,  0.10370486,  0.1421177 ,  0.18053053,\n",
       "         0.21894337]),\n",
       " <BarContainer object of 10 artists>)"
      ]
     },
     "execution_count": 65,
     "metadata": {},
     "output_type": "execute_result"
    },
    {
     "data": {
      "image/png": "[encoded data removed]",
      "text/plain": [
       "<Figure size 432x288 with 1 Axes>"
      ]
     },
     "metadata": {
      "needs_background": "light"
     },
     "output_type": "display_data"
    }
   ],
   "source": [
    "plt.hist(nat_gas_df['pctChange'], color = 'blue', edgecolor = 'black')"
   ]
  },
  {
   "cell_type": "code",
   "execution_count": 22,
   "metadata": {},
   "outputs": [],
   "source": [
    "crude_oil = yf.Ticker(\"CL=F\")"
   ]
  },
  {
   "cell_type": "code",
   "execution_count": 23,
   "metadata": {},
   "outputs": [
    {
     "name": "stdout",
     "output_type": "stream",
     "text": [
      "[*********************100%***********************]  1 of 1 completed\n"
     ]
    }
   ],
   "source": [
    "crude_oil_df = yf.download(\"CL=F\", start=\"2011-06-23\", end=\"2021-06-23\")"
   ]
  },
  {
   "cell_type": "code",
   "execution_count": 24,
   "metadata": {},
   "outputs": [],
   "source": [
    "crude_oil_df = crude_oil_df.reset_index()"
   ]
  },
  {
   "cell_type": "code",
   "execution_count": 49,
   "metadata": {},
   "outputs": [],
   "source": [
    "crude_oil_df[\"pctChange\"]= crude_oil_df[\"Adj Close\"].pct_change()"
   ]
  },
  {
   "cell_type": "code",
   "execution_count": 50,
   "metadata": {},
   "outputs": [
    {
     "data": {
      "text/html": [
       "<div>\n",
       "<style scoped>\n",
       "    .dataframe tbody tr th:only-of-type {\n",
       "        vertical-align: middle;\n",
       "    }\n",
       "\n",
       "    .dataframe tbody tr th {\n",
       "        vertical-align: top;\n",
       "    }\n",
       "\n",
       "    .dataframe thead th {\n",
       "        text-align: right;\n",
       "    }\n",
       "</style>\n",
       "<table border=\"1\" class=\"dataframe\">\n",
       "  <thead>\n",
       "    <tr style=\"text-align: right;\">\n",
       "      <th></th>\n",
       "      <th>Date</th>\n",
       "      <th>Open</th>\n",
       "      <th>High</th>\n",
       "      <th>Low</th>\n",
       "      <th>Close</th>\n",
       "      <th>Adj Close</th>\n",
       "      <th>Volume</th>\n",
       "      <th>pctChange</th>\n",
       "    </tr>\n",
       "  </thead>\n",
       "  <tbody>\n",
       "    <tr>\n",
       "      <th>0</th>\n",
       "      <td>2011-06-23</td>\n",
       "      <td>94.400002</td>\n",
       "      <td>94.470001</td>\n",
       "      <td>89.690002</td>\n",
       "      <td>91.019997</td>\n",
       "      <td>91.019997</td>\n",
       "      <td>484057</td>\n",
       "      <td>NaN</td>\n",
       "    </tr>\n",
       "    <tr>\n",
       "      <th>1</th>\n",
       "      <td>2011-06-24</td>\n",
       "      <td>92.290001</td>\n",
       "      <td>92.339996</td>\n",
       "      <td>89.820000</td>\n",
       "      <td>91.160004</td>\n",
       "      <td>91.160004</td>\n",
       "      <td>337767</td>\n",
       "      <td>0.001538</td>\n",
       "    </tr>\n",
       "    <tr>\n",
       "      <th>2</th>\n",
       "      <td>2011-06-27</td>\n",
       "      <td>91.160004</td>\n",
       "      <td>91.300003</td>\n",
       "      <td>89.610001</td>\n",
       "      <td>90.610001</td>\n",
       "      <td>90.610001</td>\n",
       "      <td>278681</td>\n",
       "      <td>-0.006033</td>\n",
       "    </tr>\n",
       "    <tr>\n",
       "      <th>3</th>\n",
       "      <td>2011-06-28</td>\n",
       "      <td>90.709999</td>\n",
       "      <td>92.959999</td>\n",
       "      <td>90.440002</td>\n",
       "      <td>92.889999</td>\n",
       "      <td>92.889999</td>\n",
       "      <td>279024</td>\n",
       "      <td>0.025163</td>\n",
       "    </tr>\n",
       "    <tr>\n",
       "      <th>4</th>\n",
       "      <td>2011-06-29</td>\n",
       "      <td>93.370003</td>\n",
       "      <td>95.839996</td>\n",
       "      <td>92.660004</td>\n",
       "      <td>94.769997</td>\n",
       "      <td>94.769997</td>\n",
       "      <td>348790</td>\n",
       "      <td>0.020239</td>\n",
       "    </tr>\n",
       "  </tbody>\n",
       "</table>\n",
       "</div>"
      ],
      "text/plain": [
       "        Date       Open       High        Low      Close  Adj Close  Volume  \\\n",
       "0 2011-06-23  94.400002  94.470001  89.690002  91.019997  91.019997  484057   \n",
       "1 2011-06-24  92.290001  92.339996  89.820000  91.160004  91.160004  337767   \n",
       "2 2011-06-27  91.160004  91.300003  89.610001  90.610001  90.610001  278681   \n",
       "3 2011-06-28  90.709999  92.959999  90.440002  92.889999  92.889999  279024   \n",
       "4 2011-06-29  93.370003  95.839996  92.660004  94.769997  94.769997  348790   \n",
       "\n",
       "   pctChange  \n",
       "0        NaN  \n",
       "1   0.001538  \n",
       "2  -0.006033  \n",
       "3   0.025163  \n",
       "4   0.020239  "
      ]
     },
     "execution_count": 50,
     "metadata": {},
     "output_type": "execute_result"
    }
   ],
   "source": [
    "crude_oil_df.head(5)"
   ]
  },
  {
   "cell_type": "code",
   "execution_count": 53,
   "metadata": {},
   "outputs": [
    {
     "data": {
      "text/plain": [
       "<AxesSubplot:>"
      ]
     },
     "execution_count": 53,
     "metadata": {},
     "output_type": "execute_result"
    },
    {
     "data": {
      "image/png": "[encoded data removed]",
      "text/plain": [
       "<Figure size 432x288 with 1 Axes>"
      ]
     },
     "metadata": {
      "needs_background": "light"
     },
     "output_type": "display_data"
    }
   ],
   "source": [
    "crude_oil_df[\"Close\"].plot()\n",
    "crude_oil_df[\"pctChange\"].plot()"
   ]
  },
  {
   "cell_type": "code",
   "execution_count": 66,
   "metadata": {},
   "outputs": [
    {
     "data": {
      "text/plain": [
       "(array([1.000e+00, 0.000e+00, 0.000e+00, 0.000e+00, 0.000e+00, 1.000e+00,\n",
       "        0.000e+00, 0.000e+00, 2.357e+03, 1.350e+02]),\n",
       " array([-3.05966065, -2.71603226, -2.37240386, -2.02877546, -1.68514706,\n",
       "        -1.34151867, -0.99789027, -0.65426187, -0.31063348,  0.03299492,\n",
       "         0.37662332]),\n",
       " <BarContainer object of 10 artists>)"
      ]
     },
     "execution_count": 66,
     "metadata": {},
     "output_type": "execute_result"
    },
    {
     "data": {
      "image/png": "[encoded data removed]",
      "text/plain": [
       "<Figure size 432x288 with 1 Axes>"
      ]
     },
     "metadata": {
      "needs_background": "light"
     },
     "output_type": "display_data"
    }
   ],
   "source": [
    "plt.hist(crude_oil_df['pctChange'], color = 'blue', edgecolor = 'black')"
   ]
  },
  {
   "cell_type": "code",
   "execution_count": 26,
   "metadata": {},
   "outputs": [],
   "source": [
    "corn_fut = yf.Ticker(\"=F\")"
   ]
  },
  {
   "cell_type": "code",
   "execution_count": 27,
   "metadata": {},
   "outputs": [
    {
     "name": "stdout",
     "output_type": "stream",
     "text": [
      "[*********************100%***********************]  1 of 1 completed\n"
     ]
    }
   ],
   "source": [
    "corn_fut_df = yf.download(\"ZC=F\", start=\"2011-06-23\", end=\"2021-06-23\")"
   ]
  },
  {
   "cell_type": "code",
   "execution_count": 28,
   "metadata": {},
   "outputs": [],
   "source": [
    "corn_fut_df = corn_fut_df.reset_index()"
   ]
  },
  {
   "cell_type": "code",
   "execution_count": 54,
   "metadata": {},
   "outputs": [],
   "source": [
    "corn_fut_df[\"pctChange\"]= corn_fut_df[\"Adj Close\"].pct_change()"
   ]
  },
  {
   "cell_type": "code",
   "execution_count": 55,
   "metadata": {},
   "outputs": [
    {
     "data": {
      "text/html": [
       "<div>\n",
       "<style scoped>\n",
       "    .dataframe tbody tr th:only-of-type {\n",
       "        vertical-align: middle;\n",
       "    }\n",
       "\n",
       "    .dataframe tbody tr th {\n",
       "        vertical-align: top;\n",
       "    }\n",
       "\n",
       "    .dataframe thead th {\n",
       "        text-align: right;\n",
       "    }\n",
       "</style>\n",
       "<table border=\"1\" class=\"dataframe\">\n",
       "  <thead>\n",
       "    <tr style=\"text-align: right;\">\n",
       "      <th></th>\n",
       "      <th>Date</th>\n",
       "      <th>Open</th>\n",
       "      <th>High</th>\n",
       "      <th>Low</th>\n",
       "      <th>Close</th>\n",
       "      <th>Adj Close</th>\n",
       "      <th>Volume</th>\n",
       "      <th>pctChange</th>\n",
       "    </tr>\n",
       "  </thead>\n",
       "  <tbody>\n",
       "    <tr>\n",
       "      <th>0</th>\n",
       "      <td>2011-06-23</td>\n",
       "      <td>675.00</td>\n",
       "      <td>683.75</td>\n",
       "      <td>639.0</td>\n",
       "      <td>680.50</td>\n",
       "      <td>680.50</td>\n",
       "      <td>194372</td>\n",
       "      <td>NaN</td>\n",
       "    </tr>\n",
       "    <tr>\n",
       "      <th>1</th>\n",
       "      <td>2011-06-24</td>\n",
       "      <td>687.00</td>\n",
       "      <td>697.75</td>\n",
       "      <td>669.0</td>\n",
       "      <td>670.00</td>\n",
       "      <td>670.00</td>\n",
       "      <td>160547</td>\n",
       "      <td>-0.015430</td>\n",
       "    </tr>\n",
       "    <tr>\n",
       "      <th>2</th>\n",
       "      <td>2011-06-27</td>\n",
       "      <td>669.00</td>\n",
       "      <td>669.50</td>\n",
       "      <td>650.0</td>\n",
       "      <td>660.75</td>\n",
       "      <td>660.75</td>\n",
       "      <td>138082</td>\n",
       "      <td>-0.013806</td>\n",
       "    </tr>\n",
       "    <tr>\n",
       "      <th>3</th>\n",
       "      <td>2011-06-28</td>\n",
       "      <td>667.75</td>\n",
       "      <td>684.25</td>\n",
       "      <td>661.0</td>\n",
       "      <td>683.00</td>\n",
       "      <td>683.00</td>\n",
       "      <td>135555</td>\n",
       "      <td>0.033674</td>\n",
       "    </tr>\n",
       "    <tr>\n",
       "      <th>4</th>\n",
       "      <td>2011-06-29</td>\n",
       "      <td>689.50</td>\n",
       "      <td>714.50</td>\n",
       "      <td>684.5</td>\n",
       "      <td>698.00</td>\n",
       "      <td>698.00</td>\n",
       "      <td>143359</td>\n",
       "      <td>0.021962</td>\n",
       "    </tr>\n",
       "  </tbody>\n",
       "</table>\n",
       "</div>"
      ],
      "text/plain": [
       "        Date    Open    High    Low   Close  Adj Close  Volume  pctChange\n",
       "0 2011-06-23  675.00  683.75  639.0  680.50     680.50  194372        NaN\n",
       "1 2011-06-24  687.00  697.75  669.0  670.00     670.00  160547  -0.015430\n",
       "2 2011-06-27  669.00  669.50  650.0  660.75     660.75  138082  -0.013806\n",
       "3 2011-06-28  667.75  684.25  661.0  683.00     683.00  135555   0.033674\n",
       "4 2011-06-29  689.50  714.50  684.5  698.00     698.00  143359   0.021962"
      ]
     },
     "execution_count": 55,
     "metadata": {},
     "output_type": "execute_result"
    }
   ],
   "source": [
    "corn_fut_df.head(5)"
   ]
  },
  {
   "cell_type": "code",
   "execution_count": 58,
   "metadata": {},
   "outputs": [
    {
     "data": {
      "text/plain": [
       "<AxesSubplot:>"
      ]
     },
     "execution_count": 58,
     "metadata": {},
     "output_type": "execute_result"
    },
    {
     "data": {
      "image/png": "[encoded data removed]",
      "text/plain": [
       "<Figure size 432x288 with 1 Axes>"
      ]
     },
     "metadata": {
      "needs_background": "light"
     },
     "output_type": "display_data"
    }
   ],
   "source": [
    "corn_fut_df[\"Close\"].plot()\n",
    "corn_fut_df[\"pctChange\"].plot()"
   ]
  },
  {
   "cell_type": "code",
   "execution_count": 67,
   "metadata": {},
   "outputs": [
    {
     "data": {
      "text/plain": [
       "(array([1.000e+00, 0.000e+00, 0.000e+00, 1.000e+00, 2.000e+00, 7.500e+01,\n",
       "        1.593e+03, 7.870e+02, 3.100e+01, 2.000e+00]),\n",
       " array([-0.23556664, -0.20110745, -0.16664826, -0.13218907, -0.09772988,\n",
       "        -0.06327069, -0.02881149,  0.0056477 ,  0.04010689,  0.07456608,\n",
       "         0.10902527]),\n",
       " <BarContainer object of 10 artists>)"
      ]
     },
     "execution_count": 67,
     "metadata": {},
     "output_type": "execute_result"
    },
    {
     "data": {
      "image/png": "[encoded data removed]",
      "text/plain": [
       "<Figure size 432x288 with 1 Axes>"
      ]
     },
     "metadata": {
      "needs_background": "light"
     },
     "output_type": "display_data"
    }
   ],
   "source": [
    "plt.hist(corn_fut_df['pctChange'], color = 'blue', edgecolor = 'black')"
   ]
  },
  {
   "cell_type": "code",
   "execution_count": 30,
   "metadata": {},
   "outputs": [],
   "source": [
    "sb_fut = yf.Ticker(\"ZS=F\")"
   ]
  },
  {
   "cell_type": "code",
   "execution_count": 32,
   "metadata": {},
   "outputs": [
    {
     "name": "stdout",
     "output_type": "stream",
     "text": [
      "[*********************100%***********************]  1 of 1 completed\n"
     ]
    }
   ],
   "source": [
    "sb_fut_df = yf.download(\"ZS=F\", start=\"2011-06-23\", end=\"2021-06-23\")"
   ]
  },
  {
   "cell_type": "code",
   "execution_count": 35,
   "metadata": {},
   "outputs": [],
   "source": [
    "sb_fut_df = sb_fut_df.reset_index()"
   ]
  },
  {
   "cell_type": "code",
   "execution_count": 59,
   "metadata": {},
   "outputs": [],
   "source": [
    "sb_fut_df[\"pctChange\"]= sb_fut_df[\"Adj Close\"].pct_change()"
   ]
  },
  {
   "cell_type": "code",
   "execution_count": 60,
   "metadata": {},
   "outputs": [
    {
     "data": {
      "text/html": [
       "<div>\n",
       "<style scoped>\n",
       "    .dataframe tbody tr th:only-of-type {\n",
       "        vertical-align: middle;\n",
       "    }\n",
       "\n",
       "    .dataframe tbody tr th {\n",
       "        vertical-align: top;\n",
       "    }\n",
       "\n",
       "    .dataframe thead th {\n",
       "        text-align: right;\n",
       "    }\n",
       "</style>\n",
       "<table border=\"1\" class=\"dataframe\">\n",
       "  <thead>\n",
       "    <tr style=\"text-align: right;\">\n",
       "      <th></th>\n",
       "      <th>Date</th>\n",
       "      <th>Open</th>\n",
       "      <th>High</th>\n",
       "      <th>Low</th>\n",
       "      <th>Close</th>\n",
       "      <th>Adj Close</th>\n",
       "      <th>Volume</th>\n",
       "      <th>pctChange</th>\n",
       "    </tr>\n",
       "  </thead>\n",
       "  <tbody>\n",
       "    <tr>\n",
       "      <th>0</th>\n",
       "      <td>2011-06-23</td>\n",
       "      <td>1331.25</td>\n",
       "      <td>1333.25</td>\n",
       "      <td>1292.75</td>\n",
       "      <td>1317.75</td>\n",
       "      <td>1317.75</td>\n",
       "      <td>68283</td>\n",
       "      <td>NaN</td>\n",
       "    </tr>\n",
       "    <tr>\n",
       "      <th>1</th>\n",
       "      <td>2011-06-24</td>\n",
       "      <td>1318.50</td>\n",
       "      <td>1328.75</td>\n",
       "      <td>1311.50</td>\n",
       "      <td>1320.25</td>\n",
       "      <td>1320.25</td>\n",
       "      <td>79696</td>\n",
       "      <td>0.001897</td>\n",
       "    </tr>\n",
       "    <tr>\n",
       "      <th>2</th>\n",
       "      <td>2011-06-27</td>\n",
       "      <td>1318.25</td>\n",
       "      <td>1330.75</td>\n",
       "      <td>1310.00</td>\n",
       "      <td>1329.75</td>\n",
       "      <td>1329.75</td>\n",
       "      <td>69586</td>\n",
       "      <td>0.007196</td>\n",
       "    </tr>\n",
       "    <tr>\n",
       "      <th>3</th>\n",
       "      <td>2011-06-28</td>\n",
       "      <td>1334.00</td>\n",
       "      <td>1346.25</td>\n",
       "      <td>1328.00</td>\n",
       "      <td>1330.75</td>\n",
       "      <td>1330.75</td>\n",
       "      <td>48313</td>\n",
       "      <td>0.000752</td>\n",
       "    </tr>\n",
       "    <tr>\n",
       "      <th>4</th>\n",
       "      <td>2011-06-29</td>\n",
       "      <td>1331.50</td>\n",
       "      <td>1350.00</td>\n",
       "      <td>1326.50</td>\n",
       "      <td>1334.25</td>\n",
       "      <td>1334.25</td>\n",
       "      <td>41246</td>\n",
       "      <td>0.002630</td>\n",
       "    </tr>\n",
       "  </tbody>\n",
       "</table>\n",
       "</div>"
      ],
      "text/plain": [
       "        Date     Open     High      Low    Close  Adj Close  Volume  pctChange\n",
       "0 2011-06-23  1331.25  1333.25  1292.75  1317.75    1317.75   68283        NaN\n",
       "1 2011-06-24  1318.50  1328.75  1311.50  1320.25    1320.25   79696   0.001897\n",
       "2 2011-06-27  1318.25  1330.75  1310.00  1329.75    1329.75   69586   0.007196\n",
       "3 2011-06-28  1334.00  1346.25  1328.00  1330.75    1330.75   48313   0.000752\n",
       "4 2011-06-29  1331.50  1350.00  1326.50  1334.25    1334.25   41246   0.002630"
      ]
     },
     "execution_count": 60,
     "metadata": {},
     "output_type": "execute_result"
    }
   ],
   "source": [
    "sb_fut_df.head(5)"
   ]
  },
  {
   "cell_type": "code",
   "execution_count": 63,
   "metadata": {},
   "outputs": [
    {
     "data": {
      "text/plain": [
       "<AxesSubplot:>"
      ]
     },
     "execution_count": 63,
     "metadata": {},
     "output_type": "execute_result"
    },
    {
     "data": {
      "image/png": "[encoded data removed]",
      "text/plain": [
       "<Figure size 432x288 with 1 Axes>"
      ]
     },
     "metadata": {
      "needs_background": "light"
     },
     "output_type": "display_data"
    }
   ],
   "source": [
    "sb_fut_df[\"Close\"].plot()\n",
    "sb_fut_df[\"pctChange\"].plot()"
   ]
  },
  {
   "cell_type": "code",
   "execution_count": 71,
   "metadata": {},
   "outputs": [
    {
     "data": {
      "text/plain": [
       "(array([   4.,    3.,    3.,   14.,  116.,  793., 1251.,  266.,   36.,\n",
       "           8.]),\n",
       " array([-0.0996325 , -0.08351817, -0.06740383, -0.0512895 , -0.03517516,\n",
       "        -0.01906083, -0.00294649,  0.01316784,  0.02928218,  0.04539651,\n",
       "         0.06151085]),\n",
       " <BarContainer object of 10 artists>)"
      ]
     },
     "execution_count": 71,
     "metadata": {},
     "output_type": "execute_result"
    },
    {
     "data": {
      "image/png": "[encoded data removed]",
      "text/plain": [
       "<Figure size 432x288 with 1 Axes>"
      ]
     },
     "metadata": {
      "needs_background": "light"
     },
     "output_type": "display_data"
    }
   ],
   "source": [
    "plt.hist(sb_fut_df['pctChange'], color = 'blue', edgecolor = 'black')"
   ]
  },
  {
   "cell_type": "code",
   "execution_count": null,
   "metadata": {},
   "outputs": [],
   "source": []
  }
 ],
 "metadata": {
  "kernelspec": {
   "display_name": "Python 3",
   "language": "python",
   "name": "python3"
  },
  "language_info": {
   "codemirror_mode": {
    "name": "ipython",
    "version": 3
   },
   "file_extension": ".py",
   "mimetype": "text/x-python",
   "name": "python",
   "nbconvert_exporter": "python",
   "pygments_lexer": "ipython3",
   "version": "3.7.9"
  }
 },
 "nbformat": 4,
 "nbformat_minor": 4
}
